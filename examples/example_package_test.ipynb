{
 "cells": [
  {
   "cell_type": "code",
   "execution_count": 1,
   "id": "8188a10d",
   "metadata": {},
   "outputs": [
    {
     "ename": "ModuleNotFoundError",
     "evalue": "No module named 'example_package'",
     "output_type": "error",
     "traceback": [
      "\u001b[0;31m---------------------------------------------------------------------------\u001b[0m",
      "\u001b[0;31mModuleNotFoundError\u001b[0m                       Traceback (most recent call last)",
      "\u001b[0;32m/tmp/ipykernel_410963/2418035290.py\u001b[0m in \u001b[0;36m<module>\u001b[0;34m\u001b[0m\n\u001b[0;32m----> 1\u001b[0;31m \u001b[0;32mfrom\u001b[0m \u001b[0mexample_package\u001b[0m\u001b[0;34m.\u001b[0m\u001b[0mexample_module_1\u001b[0m \u001b[0;32mimport\u001b[0m \u001b[0mexample1\u001b[0m \u001b[0;32mas\u001b[0m \u001b[0mex11\u001b[0m\u001b[0;34m\u001b[0m\u001b[0;34m\u001b[0m\u001b[0m\n\u001b[0m",
      "\u001b[0;31mModuleNotFoundError\u001b[0m: No module named 'example_package'"
     ]
    }
   ],
   "source": [
    "from example_package.example_module_1 import example1 as ex11"
   ]
  },
  {
   "cell_type": "code",
   "execution_count": null,
   "id": "0ba42149",
   "metadata": {},
   "outputs": [],
   "source": [
    "ex11.add_one(2.1)"
   ]
  },
  {
   "cell_type": "code",
   "execution_count": null,
   "id": "6fff02a2",
   "metadata": {},
   "outputs": [],
   "source": []
  }
 ],
 "metadata": {
  "kernelspec": {
   "display_name": "Python 3 (ipykernel)",
   "language": "python",
   "name": "python3"
  },
  "language_info": {
   "codemirror_mode": {
    "name": "ipython",
    "version": 3
   },
   "file_extension": ".py",
   "mimetype": "text/x-python",
   "name": "python",
   "nbconvert_exporter": "python",
   "pygments_lexer": "ipython3",
   "version": "3.7.7"
  }
 },
 "nbformat": 4,
 "nbformat_minor": 5
}
